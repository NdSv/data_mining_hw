{
 "cells": [
  {
   "cell_type": "markdown",
   "metadata": {},
   "source": [
    "# Python"
   ]
  },
  {
   "cell_type": "markdown",
   "metadata": {},
   "source": [
    "### FizzBuzz"
   ]
  },
  {
   "cell_type": "code",
   "execution_count": 73,
   "metadata": {
    "collapsed": false
   },
   "outputs": [
    {
     "name": "stdout",
     "output_type": "stream",
     "text": [
      "1 2 Fizz 4 Buzz Fizz 7 8 Fizz Buzz 11 Fizz 13 14 FizzBuzz 16 17 Fizz 19 Buzz Fizz 22 23 Fizz Buzz 26 Fizz 28 29 FizzBuzz 31 32 Fizz 34 Buzz Fizz 37 38 Fizz Buzz 41 Fizz 43 44 FizzBuzz 46 47 Fizz 49 Buzz Fizz 52 53 Fizz Buzz 56 Fizz 58 59 FizzBuzz 61 62 Fizz 64 Buzz Fizz 67 68 Fizz Buzz 71 Fizz 73 74 FizzBuzz 76 77 Fizz 79 Buzz Fizz 82 83 Fizz Buzz 86 Fizz 88 89 FizzBuzz 91 92 Fizz 94 Buzz Fizz 97 98 Fizz Buzz "
     ]
    }
   ],
   "source": [
    "for i in range(1,101):\n",
    "    res_3 = i % 3\n",
    "    res_5 = i % 5\n",
    "    if res_3 == 0 and (res_3 + res_5) != 0:\n",
    "        print('Fizz', end=\" \")\n",
    "    elif res_5 == 0 and (res_3 + res_5) != 0:\n",
    "        print('Buzz', end=\" \")\n",
    "    elif (res_3 + res_5) == 0:\n",
    "        print ('FizzBuzz', end=\" \")\n",
    "    else:\n",
    "        print(i, end=\" \")"
   ]
  },
  {
   "cell_type": "markdown",
   "metadata": {},
   "source": [
    "### Fibonacci numbers"
   ]
  },
  {
   "cell_type": "markdown",
   "metadata": {},
   "source": [
    "Standard way"
   ]
  },
  {
   "cell_type": "code",
   "execution_count": 7,
   "metadata": {
    "collapsed": true
   },
   "outputs": [],
   "source": [
    "def fibonacci(n):\n",
    "    if (n <= 2):\n",
    "        return 1\n",
    "    else:\n",
    "        return fibonacci(n-2)+fibonacci(n-1)"
   ]
  },
  {
   "cell_type": "code",
   "execution_count": null,
   "metadata": {
    "collapsed": true
   },
   "outputs": [],
   "source": [
    "print(fibonacci(100))"
   ]
  },
  {
   "cell_type": "markdown",
   "metadata": {},
   "source": [
    "Using lambda function"
   ]
  },
  {
   "cell_type": "code",
   "execution_count": 9,
   "metadata": {
    "collapsed": true
   },
   "outputs": [],
   "source": [
    "fib = lambda n: 1 if n <= 2 else fib(n-1) + fib(n-2)"
   ]
  },
  {
   "cell_type": "code",
   "execution_count": null,
   "metadata": {
    "collapsed": true
   },
   "outputs": [],
   "source": [
    "print(fib(100))"
   ]
  },
  {
   "cell_type": "markdown",
   "metadata": {},
   "source": [
    "Fast way using dictionary"
   ]
  },
  {
   "cell_type": "code",
   "execution_count": 17,
   "metadata": {
    "collapsed": true
   },
   "outputs": [],
   "source": [
    "mem = dict()\n",
    " \n",
    "def fib(n):\n",
    "    if n <= 2:\n",
    "        return 1\n",
    "    if n in mem:\n",
    "        return mem[n]\n",
    "    k = n//2\n",
    "    a = fib(k + 1)\n",
    "    b = fib(k)\n",
    "    ans = 0\n",
    "    if n % 2 == 1:\n",
    "        ans = a*a + b*b\n",
    "    else:\n",
    "        ans = b*(2*a - b)\n",
    "    mem[n] = ans\n",
    "    return ans"
   ]
  },
  {
   "cell_type": "code",
   "execution_count": null,
   "metadata": {
    "collapsed": true
   },
   "outputs": [],
   "source": [
    "print(fib(100))"
   ]
  },
  {
   "cell_type": "markdown",
   "metadata": {},
   "source": [
    "# Numpy"
   ]
  },
  {
   "cell_type": "markdown",
   "metadata": {},
   "source": [
    "### Linspace"
   ]
  },
  {
   "cell_type": "code",
   "execution_count": 80,
   "metadata": {
    "collapsed": true
   },
   "outputs": [],
   "source": [
    "def linspace_numpy(start, stop, num):\n",
    "    return np.linspace(start,stop,num)"
   ]
  },
  {
   "cell_type": "code",
   "execution_count": 81,
   "metadata": {
    "collapsed": true
   },
   "outputs": [],
   "source": [
    "def linspace_compr(start, stop, num):\n",
    "    step = (stop - start) / (num-1)\n",
    "    point_list = [step * (i) + start for i in range(num)]\n",
    "    return point_list"
   ]
  },
  {
   "cell_type": "code",
   "execution_count": 82,
   "metadata": {
    "collapsed": false
   },
   "outputs": [],
   "source": [
    "def linspace(start, stop, num):\n",
    "    point_list = list()\n",
    "    step = (stop - start) / (num-1)\n",
    "    for i in range(num):\n",
    "        point_list.append(step * (i) + start)\n",
    "    return point_list"
   ]
  },
  {
   "cell_type": "code",
   "execution_count": null,
   "metadata": {
    "collapsed": true
   },
   "outputs": [],
   "source": [
    "print(\"numpy\")\n",
    "%timeit linspace_numpy(10, 50, 10000)\n",
    "print(\"comprehensive\")\n",
    "%timeit linspace_compr(10, 50, 10000)\n",
    "print(\"naive\")\n",
    "%timeit linspace(10, 50, 10000)\n",
    "print(\"done\")"
   ]
  },
  {
   "cell_type": "markdown",
   "metadata": {},
   "source": [
    "# Matplotlib"
   ]
  },
  {
   "cell_type": "code",
   "execution_count": 4,
   "metadata": {
    "collapsed": true
   },
   "outputs": [],
   "source": [
    "import numpy as np\n",
    "import matplotlib.pyplot as plt"
   ]
  },
  {
   "cell_type": "code",
   "execution_count": 38,
   "metadata": {
    "collapsed": false
   },
   "outputs": [],
   "source": [
    "plt.style.use('seaborn-ticks')\n",
    "\n",
    "ax1 = plt.subplot(1,2,1)\n",
    "x = np.linspace(-2, 2, 500)\n",
    "blue_line = ax1.plot(x, x*np.sign(x), label = r'$y = |x|$')\n",
    "green_line = ax1.plot(x, np.sin(x)/x, label = r'$y = \\frac{\\sin(x)}{x}$')\n",
    "plt.legend()\n",
    "ax1.set_ylim([-1,3])\n",
    "ax1.set_ylabel('y')\n",
    "ax1.set_xlabel('x')\n",
    "\n",
    "ax2 = plt.subplot(1,2,2)\n",
    "x = np.linspace(-5, 5, 500)\n",
    "blue_line = ax2.plot(x, 3*np.sin(5*x), label = r'$y = \\sin(x)$')\n",
    "green_line = ax2.plot(x, x**2 + 5*x - 3, label = r'$y = x^2+5x-3$')\n",
    "red_line = ax2.plot(x, np.log2(np.sign(x)*x), label = r'$y = \\ln(|x|)$')\n",
    "ax2.set_ylim([-10,10])\n",
    "ax2.set_ylabel('y')\n",
    "ax2.set_xlabel('x')\n",
    "\n",
    "plt.legend()\n",
    "\n",
    "plt.savefig('plot.png')\n",
    "\n",
    "plt.show()"
   ]
  },
  {
   "cell_type": "markdown",
   "metadata": {},
   "source": [
    "# Scipy"
   ]
  },
  {
   "cell_type": "code",
   "execution_count": 68,
   "metadata": {
    "collapsed": true
   },
   "outputs": [],
   "source": [
    "from scipy.stats import norm\n",
    "from scipy import linalg"
   ]
  },
  {
   "cell_type": "code",
   "execution_count": 60,
   "metadata": {
    "collapsed": false
   },
   "outputs": [],
   "source": [
    "matrix = np.zeros([5,5])\n",
    "for i in range(5):\n",
    "    for j in range(5):\n",
    "        matrix[i,j] = norm.rvs()"
   ]
  },
  {
   "cell_type": "code",
   "execution_count": 65,
   "metadata": {
    "collapsed": true
   },
   "outputs": [],
   "source": [
    "eigvalues, eigvectors = linalg.eig(matrix)"
   ]
  },
  {
   "cell_type": "code",
   "execution_count": 71,
   "metadata": {
    "collapsed": false
   },
   "outputs": [
    {
     "name": "stdout",
     "output_type": "stream",
     "text": [
      "1.3844441052834806e-15\n",
      "1.3844441052834806e-15\n",
      "2.110154030260182e-15\n",
      "1.047268811884255e-15\n",
      "8.528913998833961e-16\n"
     ]
    }
   ],
   "source": [
    "for i in range(matrix.shape[0]):\n",
    "    err = (np.dot(matrix, eigvectors[:,i]) - eigvalues[i]*eigvectors[:,i])\n",
    "    print(linalg.norm(err))"
   ]
  },
  {
   "cell_type": "code",
   "execution_count": null,
   "metadata": {
    "collapsed": true
   },
   "outputs": [],
   "source": []
  }
 ],
 "metadata": {
  "kernelspec": {
   "display_name": "Python 3",
   "language": "python",
   "name": "python3"
  },
  "language_info": {
   "codemirror_mode": {
    "name": "ipython",
    "version": 3
   },
   "file_extension": ".py",
   "mimetype": "text/x-python",
   "name": "python",
   "nbconvert_exporter": "python",
   "pygments_lexer": "ipython3",
   "version": "3.5.1"
  }
 },
 "nbformat": 4,
 "nbformat_minor": 0
}
